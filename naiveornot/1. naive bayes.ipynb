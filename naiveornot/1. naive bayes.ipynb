{
 "cells": [
  {
   "cell_type": "code",
   "execution_count": null,
   "metadata": {
    "collapsed": true
   },
   "outputs": [],
   "source": []
  },
  {
   "cell_type": "code",
   "execution_count": null,
   "metadata": {
    "collapsed": true
   },
   "outputs": [],
   "source": []
  },
  {
   "cell_type": "code",
   "execution_count": 73,
   "metadata": {
    "collapsed": true
   },
   "outputs": [],
   "source": [
    "import os\n",
    "import sys\n",
    "import numpy as np\n",
    "from nltk.classify import NaiveBayesClassifier\n",
    "import nltk\n",
    "import re"
   ]
  },
  {
   "cell_type": "code",
   "execution_count": 74,
   "metadata": {
    "collapsed": false
   },
   "outputs": [],
   "source": [
    "TRAIN_FILE = 'data/ratings_train.txt'\n",
    "TEST_FILE = 'data/ratings_test.txt'"
   ]
  },
  {
   "cell_type": "code",
   "execution_count": 75,
   "metadata": {
    "collapsed": false
   },
   "outputs": [
    {
     "name": "stdout",
     "output_type": "stream",
     "text": [
      "id\tdocument\tlabel\r\n",
      "9976970\t아 더빙.. 진짜 짜증나네요 목소리\t0\r\n",
      "3819312\t흠...포스터보고 초딩영화줄....오버연기조차 가볍지 않구나\t1\r\n",
      "10265843\t너무재밓었다그래서보는것을추천한다\t0\r\n",
      "9045019\t교도소 이야기구먼 ..솔직히 재미는 없다..평점 조정\t0\r\n",
      "6483659\t사이몬페그의 익살스런 연기가 돋보였던 영화!스파이더맨에서 늙어보이기만 했던 커스틴 던스트가 너무나도 이뻐보였다\t1\r\n",
      "5403919\t막 걸음마 뗀 3세부터 초등학교 1학년생인 8살용영화.ㅋㅋㅋ...별반개도 아까움.\t0\r\n",
      "7797314\t원작의 긴장감을 제대로 살려내지못했다.\t0\r\n",
      "9443947\t별 반개도 아깝다 욕나온다 이응경 길용우 연기생활이몇년인지..정말 발로해도 그것보단 낫겟다 납치.감금만반복반복..이드라마는 가족도없다 연기못하는사람만모엿네\t0\r\n",
      "7156791\t액션이 없는데도 재미 있는 몇안되는 영화\t1\r\n"
     ]
    }
   ],
   "source": [
    "!head data/ratings_train.txt"
   ]
  },
  {
   "cell_type": "code",
   "execution_count": 76,
   "metadata": {
    "collapsed": false
   },
   "outputs": [
    {
     "name": "stdout",
     "output_type": "stream",
     "text": [
      "id\tdocument\tlabel\r\n",
      "6270596\t굳 ㅋ\t1\r\n",
      "9274899\tGDNTOPCLASSINTHECLUB\t0\r\n",
      "8544678\t뭐야 이 평점들은.... 나쁘진 않지만 10점 짜리는 더더욱 아니잖아\t0\r\n",
      "6825595\t지루하지는 않은데 완전 막장임... 돈주고 보기에는....\t0\r\n",
      "6723715\t3D만 아니었어도 별 다섯 개 줬을텐데.. 왜 3D로 나와서 제 심기를 불편하게 하죠??\t0\r\n",
      "7898805\t음악이 주가 된, 최고의 음악영화\t1\r\n",
      "6315043\t진정한 쓰레기\t0\r\n",
      "6097171\t마치 미국애니에서 튀어나온듯한 창의력없는 로봇디자인부터가,고개를 젖게한다\t0\r\n",
      "8932678\t갈수록 개판되가는 중국영화 유치하고 내용없음 폼잡다 끝남 말도안되는 무기에 유치한cg남무 아 그립다 동사서독같은 영화가 이건 3류아류작이다\t0\r\n"
     ]
    }
   ],
   "source": [
    "!head data/ratings_test.txt"
   ]
  },
  {
   "cell_type": "code",
   "execution_count": 77,
   "metadata": {
    "collapsed": true
   },
   "outputs": [],
   "source": [
    "train_reviews = []\n",
    "test_reviews = []"
   ]
  },
  {
   "cell_type": "code",
   "execution_count": 78,
   "metadata": {
    "collapsed": false
   },
   "outputs": [],
   "source": [
    "# Read data\n",
    "with open(TRAIN_FILE, 'r') as f:\n",
    "    next(f) # header skip\n",
    "    for line in f.readlines():\n",
    "        _, review, label = line.strip().split('\\t')\n",
    "        label = 'pos' if label == '1' else 'neg'\n",
    "        train_reviews.append((review.strip(), label.strip()))\n",
    "        \n",
    "with open(TEST_FILE, 'r') as f:\n",
    "    next(f) # header skip\n",
    "    for line in f.readlines():\n",
    "        _, review, label = line.strip().split('\\t')\n",
    "        label = 'pos' if label == '1' else 'neg'\n",
    "        test_reviews.append((review.strip(), label.strip()))"
   ]
  },
  {
   "cell_type": "code",
   "execution_count": 79,
   "metadata": {
    "collapsed": false
   },
   "outputs": [
    {
     "data": {
      "text/plain": [
       "[('아 더빙.. 진짜 짜증나네요 목소리', 'neg'),\n",
       " ('흠...포스터보고 초딩영화줄....오버연기조차 가볍지 않구나', 'pos'),\n",
       " ('너무재밓었다그래서보는것을추천한다', 'neg'),\n",
       " ('교도소 이야기구먼 ..솔직히 재미는 없다..평점 조정', 'neg'),\n",
       " ('사이몬페그의 익살스런 연기가 돋보였던 영화!스파이더맨에서 늙어보이기만 했던 커스틴 던스트가 너무나도 이뻐보였다', 'pos'),\n",
       " ('막 걸음마 뗀 3세부터 초등학교 1학년생인 8살용영화.ㅋㅋㅋ...별반개도 아까움.', 'neg'),\n",
       " ('원작의 긴장감을 제대로 살려내지못했다.', 'neg'),\n",
       " ('별 반개도 아깝다 욕나온다 이응경 길용우 연기생활이몇년인지..정말 발로해도 그것보단 낫겟다 납치.감금만반복반복..이드라마는 가족도없다 연기못하는사람만모엿네',\n",
       "  'neg'),\n",
       " ('액션이 없는데도 재미 있는 몇안되는 영화', 'pos'),\n",
       " ('왜케 평점이 낮은건데? 꽤 볼만한데.. 헐리우드식 화려함에만 너무 길들여져 있나?', 'pos')]"
      ]
     },
     "execution_count": 79,
     "metadata": {},
     "output_type": "execute_result"
    }
   ],
   "source": [
    "train_reviews[:10]"
   ]
  },
  {
   "cell_type": "code",
   "execution_count": 80,
   "metadata": {
    "collapsed": false
   },
   "outputs": [
    {
     "data": {
      "text/plain": [
       "[('굳 ㅋ', 'pos'),\n",
       " ('GDNTOPCLASSINTHECLUB', 'neg'),\n",
       " ('뭐야 이 평점들은.... 나쁘진 않지만 10점 짜리는 더더욱 아니잖아', 'neg'),\n",
       " ('지루하지는 않은데 완전 막장임... 돈주고 보기에는....', 'neg'),\n",
       " ('3D만 아니었어도 별 다섯 개 줬을텐데.. 왜 3D로 나와서 제 심기를 불편하게 하죠??', 'neg'),\n",
       " ('음악이 주가 된, 최고의 음악영화', 'pos'),\n",
       " ('진정한 쓰레기', 'neg'),\n",
       " ('마치 미국애니에서 튀어나온듯한 창의력없는 로봇디자인부터가,고개를 젖게한다', 'neg'),\n",
       " ('갈수록 개판되가는 중국영화 유치하고 내용없음 폼잡다 끝남 말도안되는 무기에 유치한cg남무 아 그립다 동사서독같은 영화가 이건 3류아류작이다',\n",
       "  'neg'),\n",
       " ('이별의 아픔뒤에 찾아오는 새로운 인연의 기쁨 But, 모든 사람이 그렇지는 않네..', 'pos')]"
      ]
     },
     "execution_count": 80,
     "metadata": {},
     "output_type": "execute_result"
    }
   ],
   "source": [
    "test_reviews[:10]"
   ]
  },
  {
   "cell_type": "code",
   "execution_count": null,
   "metadata": {
    "collapsed": true
   },
   "outputs": [],
   "source": []
  },
  {
   "cell_type": "code",
   "execution_count": 81,
   "metadata": {
    "collapsed": true
   },
   "outputs": [],
   "source": [
    "def tokenizer(sentence):\n",
    "    tokens = re.findall(r\"[\\w]+|[^\\s\\w]\", sentence)\n",
    "    return tokens"
   ]
  },
  {
   "cell_type": "code",
   "execution_count": 82,
   "metadata": {
    "collapsed": false
   },
   "outputs": [],
   "source": [
    "train_reviews = [(tokenizer(review), label) for review, label in train_reviews]\n",
    "test_reviews = [(tokenizer(review), label) for review, label in test_reviews]"
   ]
  },
  {
   "cell_type": "code",
   "execution_count": 83,
   "metadata": {
    "collapsed": false
   },
   "outputs": [
    {
     "data": {
      "text/plain": [
       "[(['아', '더빙', '.', '.', '진짜', '짜증나네요', '목소리'], 'neg'),\n",
       " (['흠',\n",
       "   '.',\n",
       "   '.',\n",
       "   '.',\n",
       "   '포스터보고',\n",
       "   '초딩영화줄',\n",
       "   '.',\n",
       "   '.',\n",
       "   '.',\n",
       "   '.',\n",
       "   '오버연기조차',\n",
       "   '가볍지',\n",
       "   '않구나'],\n",
       "  'pos'),\n",
       " (['너무재밓었다그래서보는것을추천한다'], 'neg'),\n",
       " (['교도소', '이야기구먼', '.', '.', '솔직히', '재미는', '없다', '.', '.', '평점', '조정'], 'neg'),\n",
       " (['사이몬페그의',\n",
       "   '익살스런',\n",
       "   '연기가',\n",
       "   '돋보였던',\n",
       "   '영화',\n",
       "   '!',\n",
       "   '스파이더맨에서',\n",
       "   '늙어보이기만',\n",
       "   '했던',\n",
       "   '커스틴',\n",
       "   '던스트가',\n",
       "   '너무나도',\n",
       "   '이뻐보였다'],\n",
       "  'pos')]"
      ]
     },
     "execution_count": 83,
     "metadata": {},
     "output_type": "execute_result"
    }
   ],
   "source": [
    "train_reviews[:5]"
   ]
  },
  {
   "cell_type": "code",
   "execution_count": null,
   "metadata": {
    "collapsed": true
   },
   "outputs": [],
   "source": []
  },
  {
   "cell_type": "code",
   "execution_count": 84,
   "metadata": {
    "collapsed": true
   },
   "outputs": [],
   "source": [
    "def term_exists(doc):\n",
    "#     return {'exists({})'.format(word): (word in set(doc)) for word in selected_words}\n",
    "    return {word: True for word in doc}"
   ]
  },
  {
   "cell_type": "code",
   "execution_count": 85,
   "metadata": {
    "collapsed": false
   },
   "outputs": [],
   "source": [
    "train_xy = [(term_exists(d), c) for d, c in train_reviews] #ㄴ[:1500]\n",
    "test_xy = [(term_exists(d), c) for d, c in test_reviews] #[:500]"
   ]
  },
  {
   "cell_type": "code",
   "execution_count": 86,
   "metadata": {
    "collapsed": false,
    "scrolled": true
   },
   "outputs": [
    {
     "data": {
      "text/plain": [
       "[({'.': True, '더빙': True, '목소리': True, '아': True, '진짜': True, '짜증나네요': True},\n",
       "  'neg'),\n",
       " ({'.': True,\n",
       "   '가볍지': True,\n",
       "   '않구나': True,\n",
       "   '오버연기조차': True,\n",
       "   '초딩영화줄': True,\n",
       "   '포스터보고': True,\n",
       "   '흠': True},\n",
       "  'pos'),\n",
       " ({'너무재밓었다그래서보는것을추천한다': True}, 'neg'),\n",
       " ({'.': True,\n",
       "   '교도소': True,\n",
       "   '솔직히': True,\n",
       "   '없다': True,\n",
       "   '이야기구먼': True,\n",
       "   '재미는': True,\n",
       "   '조정': True,\n",
       "   '평점': True},\n",
       "  'neg'),\n",
       " ({'!': True,\n",
       "   '너무나도': True,\n",
       "   '늙어보이기만': True,\n",
       "   '던스트가': True,\n",
       "   '돋보였던': True,\n",
       "   '사이몬페그의': True,\n",
       "   '스파이더맨에서': True,\n",
       "   '연기가': True,\n",
       "   '영화': True,\n",
       "   '이뻐보였다': True,\n",
       "   '익살스런': True,\n",
       "   '커스틴': True,\n",
       "   '했던': True},\n",
       "  'pos')]"
      ]
     },
     "execution_count": 86,
     "metadata": {},
     "output_type": "execute_result"
    }
   ],
   "source": [
    "train_xy[:5]"
   ]
  },
  {
   "cell_type": "code",
   "execution_count": 87,
   "metadata": {
    "collapsed": false
   },
   "outputs": [
    {
     "data": {
      "text/plain": [
       "[({'ㅋ': True, '굳': True}, 'pos'),\n",
       " ({'GDNTOPCLASSINTHECLUB': True}, 'neg'),\n",
       " ({'.': True,\n",
       "   '10점': True,\n",
       "   '나쁘진': True,\n",
       "   '더더욱': True,\n",
       "   '뭐야': True,\n",
       "   '아니잖아': True,\n",
       "   '않지만': True,\n",
       "   '이': True,\n",
       "   '짜리는': True,\n",
       "   '평점들은': True},\n",
       "  'neg'),\n",
       " ({'.': True,\n",
       "   '돈주고': True,\n",
       "   '막장임': True,\n",
       "   '보기에는': True,\n",
       "   '않은데': True,\n",
       "   '완전': True,\n",
       "   '지루하지는': True},\n",
       "  'neg'),\n",
       " ({'.': True,\n",
       "   '3D로': True,\n",
       "   '3D만': True,\n",
       "   '?': True,\n",
       "   '개': True,\n",
       "   '나와서': True,\n",
       "   '다섯': True,\n",
       "   '별': True,\n",
       "   '불편하게': True,\n",
       "   '심기를': True,\n",
       "   '아니었어도': True,\n",
       "   '왜': True,\n",
       "   '제': True,\n",
       "   '줬을텐데': True,\n",
       "   '하죠': True},\n",
       "  'neg')]"
      ]
     },
     "execution_count": 87,
     "metadata": {},
     "output_type": "execute_result"
    }
   ],
   "source": [
    "test_xy[:5]"
   ]
  },
  {
   "cell_type": "code",
   "execution_count": 88,
   "metadata": {
    "collapsed": false
   },
   "outputs": [],
   "source": [
    "classifier = NaiveBayesClassifier.train(train_xy)"
   ]
  },
  {
   "cell_type": "code",
   "execution_count": 89,
   "metadata": {
    "collapsed": false
   },
   "outputs": [
    {
     "name": "stdout",
     "output_type": "stream",
     "text": [
      "accuracy: 0.83608\n"
     ]
    }
   ],
   "source": [
    "print ('accuracy:', nltk.classify.util.accuracy(classifier, test_xy))"
   ]
  },
  {
   "cell_type": "code",
   "execution_count": 90,
   "metadata": {
    "collapsed": false
   },
   "outputs": [
    {
     "name": "stdout",
     "output_type": "stream",
     "text": [
      "Most Informative Features\n",
      "                     1점도 = True              neg : pos    =    206.8 : 1.0\n",
      "                    재미없어 = True              neg : pos    =    116.5 : 1.0\n",
      "                      최악 = True              neg : pos    =    108.5 : 1.0\n",
      "                     최악의 = True              neg : pos    =    106.4 : 1.0\n",
      "                     0점은 = True              neg : pos    =     85.9 : 1.0\n",
      "                      망작 = True              neg : pos    =     82.6 : 1.0\n",
      "                   재미없어요 = True              neg : pos    =     81.3 : 1.0\n",
      "                    최악이다 = True              neg : pos    =     80.6 : 1.0\n",
      "                   따뜻해지는 = True              pos : neg    =     77.4 : 1.0\n",
      "                     아까움 = True              neg : pos    =     74.7 : 1.0\n"
     ]
    }
   ],
   "source": [
    "classifier.show_most_informative_features()"
   ]
  },
  {
   "cell_type": "code",
   "execution_count": null,
   "metadata": {
    "collapsed": true
   },
   "outputs": [],
   "source": []
  },
  {
   "cell_type": "code",
   "execution_count": null,
   "metadata": {
    "collapsed": true
   },
   "outputs": [],
   "source": []
  },
  {
   "cell_type": "code",
   "execution_count": null,
   "metadata": {
    "collapsed": true
   },
   "outputs": [],
   "source": []
  },
  {
   "cell_type": "code",
   "execution_count": null,
   "metadata": {
    "collapsed": true
   },
   "outputs": [],
   "source": []
  },
  {
   "cell_type": "code",
   "execution_count": null,
   "metadata": {
    "collapsed": true
   },
   "outputs": [],
   "source": []
  }
 ],
 "metadata": {
  "kernelspec": {
   "display_name": "Python 3",
   "language": "python",
   "name": "python3"
  },
  "language_info": {
   "codemirror_mode": {
    "name": "ipython",
    "version": 3
   },
   "file_extension": ".py",
   "mimetype": "text/x-python",
   "name": "python",
   "nbconvert_exporter": "python",
   "pygments_lexer": "ipython3",
   "version": "3.6.0"
  }
 },
 "nbformat": 4,
 "nbformat_minor": 2
}
