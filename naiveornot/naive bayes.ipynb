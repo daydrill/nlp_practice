{
 "cells": [
  {
   "cell_type": "code",
   "execution_count": null,
   "metadata": {
    "collapsed": true
   },
   "outputs": [],
   "source": []
  },
  {
   "cell_type": "markdown",
   "metadata": {},
   "source": [
    "## 0. 베이즈 정리"
   ]
  },
  {
   "cell_type": "markdown",
   "metadata": {},
   "source": [
    "### 사건 E가 발생했다는 가정하에 사건 F가 발생할 확률이 주어짐. 그 때, 사건 F가 발생했다는 가정하에 사건 E가 발생할 확률은...? \n",
    "- 1) 조건부 확률 정의를 이용하여 식 정리\n",
    "    - P(E|F) = P(E,F)/P(F) = P(F|E)P(E)/P(F)\n",
    "- 2) 사건 F를 E의 발생 여부에 따라 분리\n",
    "    - P(F) = P(F,E) + P(F,~E)\n",
    "- 1)식에 2)식 대입하여 __베이즈 정리__ 완성!\n",
    "    - P(E|F) = P(F|E)P(E) / [P(F|E)P(E) + P(F|~E)P(E)]"
   ]
  },
  {
   "cell_type": "markdown",
   "metadata": {},
   "source": [
    "### 예제) \n",
    "- __전제__ : 10,000명 중 1명이 질병 d에 걸림. 질병여부를 판단하는 검사가 99%의 경우에 대해 정확한 판단을 내림.\n",
    "- 양성 판정일 경우, 실제로 병에 걸렸을 확률 __P(D|T)__은??"
   ]
  },
  {
   "cell_type": "code",
   "execution_count": null,
   "metadata": {
    "collapsed": true
   },
   "outputs": [],
   "source": []
  },
  {
   "cell_type": "markdown",
   "metadata": {
    "collapsed": true
   },
   "source": [
    "## 1. 바보 스팸 필터"
   ]
  },
  {
   "cell_type": "markdown",
   "metadata": {},
   "source": [
    "- S: 메시지가 스팸인 경우, V: '비아그라'라는 단어가 포함되어 있는 경우 라고 할때,\n",
    "- 베이즈 정리를 사용하여 비아그라라는 단어가 포함되었을 때, 해당 메시지가 스팸일 확률:\n",
    "    - P(S|V) = P(V|S)P(S) / [ P(V|S)P(S) + P(V|~S)P(~S) ] \n",
    "    - P(V|S)P(S) : 스팸이면서 비아그라 단어를 포함하고 있을 확률. -> __비아그라라는 단어가 포함된 모든 메시지 중 스팸 메시지의 비율.__\n",
    "- 수많은 스팸 메시지와 스팸이 아닌 메시지를 갖고 있다면, P(V|S)와 P(V|~S)를 쉽게 추정할 수 있음.\n",
    "- 메시지가 스팸일 확률과 스팸이 아닌 확률이 동일하다면(즉, P(S)=P(~S)=0.5) 식을 쉽게 정리.\n",
    "    - P(S|V) = P(V|S) / [ P(V|S) + P(V|~S) ] "
   ]
  },
  {
   "cell_type": "markdown",
   "metadata": {},
   "source": [
    "### 예제)\n",
    "- 스팸 메시지 중 50%, 스팸이 아닌 메시지 중 1%만이 비아그라라는 단어를 포함하고 있다면, 비아그라라는 단어를 포함하고 있는 메시지가 스팸일 확률은..?\n",
    "- 0.5 / (0.5 + 0.01) = __98%__"
   ]
  },
  {
   "cell_type": "code",
   "execution_count": null,
   "metadata": {
    "collapsed": true
   },
   "outputs": [],
   "source": []
  },
  {
   "cell_type": "markdown",
   "metadata": {},
   "source": [
    "## 2. 조금 더 똑똑한 스팸 필터\n",
    "- 더 많은 단어 $w_1$ , ... $w_n$ 이 주어졌다고 가정.\n",
    "- 확률 이론을 적용하기 위해 단어 $w_i$가 메시지에 포함되는 경우를 $X_i$로 나타내고, 스팸메시지에 i번째 단어가 포함되어 있는 확률인 P($X_i$|S)와 스팸이 아닌 메시지에 i번째 단어가 포함되어 있는 확률인 P($X_i$|~S)가 주어졌다고 표현.\n",
    "- __나이브 베이즈의 핵심__ : 메시지가 스팸이냐 아니냐가 주어졌다는 조건 하에 각 단어의 존재(혹은 부재)는 서로 __조건부 독립적__이라는 가정에 기반.\n",
    "    - 어떤 스팸 메시지가 '비아그라'라는 단어를 포함하고 있다는 점이 같은 메시지가 '롤렉스'라는 단어를 포함하고 있는지 판단하는데 도움을 주지 않음. (무관한 사건)\n",
    "\n",
    "$$P(X_1=x_1, ...,X_n=x_n|S)=P(X_1=x_1|S) * ... * P(X_n=x_n|S)$$"
   ]
  },
  {
   "cell_type": "markdown",
   "metadata": {},
   "source": [
    "- 비아그라라는 단어만으로 스팸을 걸러내는 필터에서도 사용된 베이즈 정리를 통해 메시지가 스팸일 확률을 다음과 같이 계산 할 수 있음.\n",
    "    - P(S|X=x)=P(X=x|S)/ [ P(X=x|S) + P(X=x|~S) ] \n",
    "- 나이브 베이즈의 가정을 따르면, 각 단어가 메시지에 포함될 확률 값을 모두 곱해서 우변에 위치한 확률 값을 모두 구할 수 있음!\n",
    "- __주의: 확률값을 실제로 곱하는 것을 피해야함!!__ -> 컴퓨터가 0에 가까운 부동소수점을 제대로 처리하지 못하여 언더플로 문제가 발생하기 때문. \n",
    "    - -> log의 성질을 이용하여 문제를 해결!!\n",
    "        - log(ab) = log(a) + log(b)\n",
    "        - exp(log x) = x\n",
    "- P($X_i$|S),P($X_i$|~S) 추정 : 스팸으로 레이블된 학습 메시지 중 $w_i$가 포함되어 있는 메시지의 비율을 사용.\n",
    "    - -> __단점:__ 주어진 학습 데이터에 '데이터'라는 단어는 스팸이 아닌 메시지에만 포함되어 있다고 상상해보자. 즉, P('데이터'|S) = 0 임. 그렇다면 나이브 베이즈 분류기는 '데이터'라는 단어가 들어간 메시지를 항상 스팸 메시지가 아니라고 예측할 것임. 메시지가 \"값싼 비아그라와 정품 롤렉스에 대한 데이터\"일대도 스팸이 아니라고 예측하게 됨.\n",
    "    - -> __문제해결방법: Smoothing(평활화) 이용.__\n",
    "- Smoothing을 위해 가짜 빈도수(pseudocount) k를 결정하고 스팸 메시지에서 i번째 단어가 나올 확률을 다음과 같이 추정.\n",
    "    - P($X_i$|S) = (k + $w_i$를 포함하고 있는 스팸 수)/(2k+스팸 수)\n",
    "    - -> 스팸 메시지에서 i번째 단어가 나올 확률을 계산할 때 해당 단어가 포함된 스팸과 포함되지 않은 스팸이 이미 각각 k번씩 나왔다고 가정한다는 의미. P('데이터'|S)를 0이 아닌 다른 확률 값으로 설정해줌."
   ]
  },
  {
   "cell_type": "code",
   "execution_count": null,
   "metadata": {
    "collapsed": true
   },
   "outputs": [],
   "source": []
  },
  {
   "cell_type": "markdown",
   "metadata": {},
   "source": [
    "## 3. 구현하기"
   ]
  },
  {
   "cell_type": "code",
   "execution_count": 1,
   "metadata": {
    "collapsed": false
   },
   "outputs": [],
   "source": [
    "from collections import Counter, defaultdict\n",
    "# from machine_learning import split_data\n",
    "import math, random, re, glob"
   ]
  },
  {
   "cell_type": "markdown",
   "metadata": {},
   "source": [
    "### 형태소 분석기 정의"
   ]
  },
  {
   "cell_type": "code",
   "execution_count": 2,
   "metadata": {
    "collapsed": true
   },
   "outputs": [],
   "source": [
    "def tokenize(message):\n",
    "    message = message.lower()                       # 소문자로 변환\n",
    "    all_words = re.findall(\"[a-z0-9']+\", message)   # 단어 추출\n",
    "    return set(all_words)                           # 중복되는 단어 제거"
   ]
  },
  {
   "cell_type": "code",
   "execution_count": 3,
   "metadata": {
    "collapsed": true
   },
   "outputs": [],
   "source": [
    "sample_text = 'I have a pen. I have an apple. Uh! apple pen~'"
   ]
  },
  {
   "cell_type": "code",
   "execution_count": 4,
   "metadata": {
    "collapsed": false
   },
   "outputs": [
    {
     "data": {
      "text/plain": [
       "{'a', 'an', 'apple', 'have', 'i', 'pen', 'uh'}"
      ]
     },
     "execution_count": 4,
     "metadata": {},
     "output_type": "execute_result"
    }
   ],
   "source": [
    "tokenize(sample_text)"
   ]
  },
  {
   "cell_type": "markdown",
   "metadata": {},
   "source": [
    "### 빈도수 카운팅\n",
    "- 각 단어를 key로 사용하며 __[스팸 메시지의 빈도수(spam_count), 스팸이 아닌 메시지의 빈도수(non_spam_count)]__형태의 list를 값으로 사용하는 dict를 반환해 줄 것임."
   ]
  },
  {
   "cell_type": "code",
   "execution_count": 5,
   "metadata": {
    "collapsed": true
   },
   "outputs": [],
   "source": [
    "def count_words(training_set):\n",
    "    \"\"\"학습 데이터는 (message, is_spam) 형식으로 구성\"\"\"\n",
    "    counts = defaultdict(lambda: [0,0])\n",
    "    for message, is_spam in training_set:\n",
    "        for word in tokenize(message):\n",
    "            counts[word][0 if is_spam else 1] += 1\n",
    "    return counts"
   ]
  },
  {
   "cell_type": "code",
   "execution_count": null,
   "metadata": {
    "collapsed": true
   },
   "outputs": [],
   "source": []
  },
  {
   "cell_type": "markdown",
   "metadata": {},
   "source": [
    "### Smoothing\n",
    "- 단어의 빈도수로 확률 값을 추정."
   ]
  },
  {
   "cell_type": "code",
   "execution_count": 6,
   "metadata": {
    "collapsed": true
   },
   "outputs": [],
   "source": [
    "def word_probabilities(counts, total_spams, total_non_spams, k=0.5):\n",
    "    \"\"\"단어의 빈도수를 w, p(w | spam) and p(w | ~spam) 형태로 변환\"\"\"\n",
    "    return [(w,\n",
    "             (spam + k) / (total_spams + 2 * k),\n",
    "             (non_spam + k) / (total_non_spams + 2 * k))\n",
    "             for w, (spam, non_spam) in counts.items()]"
   ]
  },
  {
   "cell_type": "code",
   "execution_count": null,
   "metadata": {
    "collapsed": true
   },
   "outputs": [],
   "source": []
  },
  {
   "cell_type": "markdown",
   "metadata": {},
   "source": [
    "### 스팸메시지 확률 계산\n",
    "- __계산된 단어의 확률__과 __나이브 베이즈의 기본가정__을 사용해서 메시지가 스팸일 확률 계산."
   ]
  },
  {
   "cell_type": "code",
   "execution_count": 7,
   "metadata": {
    "collapsed": true
   },
   "outputs": [],
   "source": [
    "def spam_probability(word_probs, message):\n",
    "    message_words = tokenize(message) \n",
    "    log_prob_if_spam = log_prob_if_not_spam = 0.0\n",
    "\n",
    "    # 모든 단어에 대해 반복.\n",
    "    for word, prob_if_spam, prob_if_not_spam in word_probs:\n",
    "\n",
    "        # 만약 메시지에 word가 나타나면 해당단어가 나올 log 확률 더해줌.\n",
    "        if word in message_words:\n",
    "            log_prob_if_spam += math.log(prob_if_spam)\n",
    "            log_prob_if_not_spam += math.log(prob_if_not_spam)\n",
    "\n",
    "        # 그렇지 않으면 해당 단어가 나오지 않을 log 확률 더해줌. \n",
    "        # 나오지 않을 확률은 log(1-나올 확률)로 계산\n",
    "        else:\n",
    "            log_prob_if_spam += math.log(1.0 - prob_if_spam)\n",
    "            log_prob_if_not_spam += math.log(1.0 - prob_if_not_spam)\n",
    "\n",
    "    prob_if_spam = math.exp(log_prob_if_spam)\n",
    "    prob_if_not_spam = math.exp(log_prob_if_not_spam)\n",
    "    return prob_if_spam / (prob_if_spam + prob_if_not_spam)"
   ]
  },
  {
   "cell_type": "code",
   "execution_count": null,
   "metadata": {
    "collapsed": true
   },
   "outputs": [],
   "source": []
  },
  {
   "cell_type": "markdown",
   "metadata": {},
   "source": [
    "### 나이브 베이즈 클래스 정의"
   ]
  },
  {
   "cell_type": "code",
   "execution_count": 8,
   "metadata": {
    "collapsed": true
   },
   "outputs": [],
   "source": [
    "class NaiveBayesClassifier:\n",
    "\n",
    "    def __init__(self, k=0.5):\n",
    "        self.k = k\n",
    "        self.word_probs = []\n",
    "\n",
    "    def train(self, training_set):\n",
    "\n",
    "        # 스팸과 아닌것의 개수 세어줌\n",
    "        num_spams = len([is_spam\n",
    "                         for message, is_spam in training_set\n",
    "                         if is_spam])\n",
    "        num_non_spams = len(training_set) - num_spams\n",
    "\n",
    "        # run training data through our \"pipeline\"\n",
    "        word_counts = count_words(training_set)\n",
    "        self.word_probs = word_probabilities(word_counts,\n",
    "                                             num_spams,\n",
    "                                             num_non_spams,\n",
    "                                             self.k)\n",
    "\n",
    "    def classify(self, message):\n",
    "        return spam_probability(self.word_probs, message)\n",
    "\n"
   ]
  },
  {
   "cell_type": "code",
   "execution_count": null,
   "metadata": {
    "collapsed": true
   },
   "outputs": [],
   "source": []
  },
  {
   "cell_type": "code",
   "execution_count": null,
   "metadata": {
    "collapsed": true
   },
   "outputs": [],
   "source": []
  },
  {
   "cell_type": "markdown",
   "metadata": {},
   "source": [
    "## 4. 모델 검증하기\n",
    "- 실습 데이터 : http://spamassassin.apache.org/publiccorpus/\n",
    "    - spamc 라이브러리 이용해도 됨."
   ]
  },
  {
   "cell_type": "code",
   "execution_count": 34,
   "metadata": {
    "collapsed": false
   },
   "outputs": [],
   "source": [
    "#!pip install spamc"
   ]
  },
  {
   "cell_type": "code",
   "execution_count": 18,
   "metadata": {
    "collapsed": false
   },
   "outputs": [
    {
     "ename": "SyntaxError",
     "evalue": "invalid syntax (client.py, line 230)",
     "output_type": "error",
     "traceback": [
      "\u001b[0;36m  File \u001b[0;32m\"/Library/Frameworks/Python.framework/Versions/3.5/lib/python3.5/site-packages/spamc/client.py\"\u001b[0;36m, line \u001b[0;32m230\u001b[0m\n\u001b[0;31m    except socket.gaierror, err:\u001b[0m\n\u001b[0m                          ^\u001b[0m\n\u001b[0;31mSyntaxError\u001b[0m\u001b[0;31m:\u001b[0m invalid syntax\n"
     ]
    }
   ],
   "source": [
    "# import spamc"
   ]
  },
  {
   "cell_type": "code",
   "execution_count": null,
   "metadata": {
    "collapsed": true
   },
   "outputs": [],
   "source": []
  },
  {
   "cell_type": "code",
   "execution_count": null,
   "metadata": {
    "collapsed": true
   },
   "outputs": [],
   "source": []
  },
  {
   "cell_type": "code",
   "execution_count": 35,
   "metadata": {
    "collapsed": true
   },
   "outputs": [],
   "source": [
    "import glob, re, os"
   ]
  },
  {
   "cell_type": "code",
   "execution_count": 39,
   "metadata": {
    "collapsed": false
   },
   "outputs": [
    {
     "data": {
      "text/plain": [
       "'/Users/chad/workspace/nlp_practice/naiveornot/spam_data/*/*'"
      ]
     },
     "execution_count": 39,
     "metadata": {},
     "output_type": "execute_result"
    }
   ],
   "source": [
    "path = os.getcwd()+'/spam_data/*/*'\n",
    "path"
   ]
  },
  {
   "cell_type": "code",
   "execution_count": 38,
   "metadata": {
    "collapsed": true
   },
   "outputs": [],
   "source": [
    "data = []"
   ]
  },
  {
   "cell_type": "code",
   "execution_count": 45,
   "metadata": {
    "collapsed": false
   },
   "outputs": [],
   "source": [
    "for fn in glob.glob(path):\n",
    "    is_spam = \"ham\" not in fn\n",
    "    \n",
    "    with open(fn, 'r',encoding='ISO-8859-1') as f:\n",
    "        for line in f.readlines():\n",
    "            if line.startswith(\"Subject:\"):\n",
    "                subject = re.sub(r\"^Subject: \",\"\", line).strip()\n",
    "                data.append((subject, is_spam))"
   ]
  },
  {
   "cell_type": "code",
   "execution_count": 48,
   "metadata": {
    "collapsed": false
   },
   "outputs": [
    {
     "data": {
      "text/plain": [
       "[('Re: New Sequences Window', False),\n",
       " ('[zzzzteana] RE: Alexander', False),\n",
       " ('[zzzzteana] Moscow bomber', False),\n",
       " (\"[IRR] Klez: The Virus That  Won't Die\", False),\n",
       " ('Re: Insert signature', False),\n",
       " ('Re: [zzzzteana] Nothing like mama used to make', False),\n",
       " ('Re: [zzzzteana] Nothing like mama used to make', False),\n",
       " ('[zzzzteana] Playboy wants to go out with a bang', False),\n",
       " ('Re: [zzzzteana] Nothing like mama used to make', False),\n",
       " ('[zzzzteana] Meaningful sentences', False),\n",
       " ('Re: New Sequences Window', False),\n",
       " ('[SAtalk] SA CGI Configurator Scripts', False),\n",
       " ('[SAdev] Interesting approach to Spam handling..', False),\n",
       " ('Re: New Sequences Window', False),\n",
       " ('[SAdev] Party in San Francisco tonight', False),\n",
       " ('Re: [SAdev] Live Rule Updates after Release ???', False),\n",
       " ('[ILUG] Re: Problems with RAID1 on cobalt raq3', False),\n",
       " ('Re: New Sequences Window', False),\n",
       " ('The case for spam', False),\n",
       " (\"[IIU] Eircom aDSL Nat'ing\", False),\n",
       " ('[zzzzteana] Re: Australian Catholic Kiddie Perv Steps Aside', False),\n",
       " ('RE: [ILUG] Sun Solaris..', False),\n",
       " ('[zzzzteana] Which Muppet Are You?', False),\n",
       " ('[ILUG] Sun Solaris..', False),\n",
       " ('Re: [zzzzteana] Which Muppet Are You?', False),\n",
       " ('Re: [ILUG] Sun Solaris..', False),\n",
       " ('Re: [ILUG] Sun Solaris..', False),\n",
       " ('Re: CVS report', False),\n",
       " ('Re: [zzzzteana] Which Muppet Are You?', False),\n",
       " ('Re: CVS report', False)]"
      ]
     },
     "execution_count": 48,
     "metadata": {},
     "output_type": "execute_result"
    }
   ],
   "source": [
    "data[:30]"
   ]
  },
  {
   "cell_type": "code",
   "execution_count": null,
   "metadata": {
    "collapsed": true
   },
   "outputs": [],
   "source": []
  },
  {
   "cell_type": "code",
   "execution_count": 50,
   "metadata": {
    "collapsed": true
   },
   "outputs": [],
   "source": [
    "random.seed(0)"
   ]
  },
  {
   "cell_type": "code",
   "execution_count": 51,
   "metadata": {
    "collapsed": true
   },
   "outputs": [],
   "source": [
    "def split_data(data, prob):\n",
    "    results = [], []\n",
    "    for row in data:\n",
    "        results[0 if random.random() < prob else 1].append(row)\n",
    "    return results"
   ]
  },
  {
   "cell_type": "code",
   "execution_count": 52,
   "metadata": {
    "collapsed": true
   },
   "outputs": [],
   "source": [
    "train_data, test_data = split_data(data, 0.75)"
   ]
  },
  {
   "cell_type": "code",
   "execution_count": 54,
   "metadata": {
    "collapsed": true
   },
   "outputs": [],
   "source": [
    "classifier = NaiveBayesClassifier()"
   ]
  },
  {
   "cell_type": "code",
   "execution_count": 55,
   "metadata": {
    "collapsed": true
   },
   "outputs": [],
   "source": [
    "classifier.train(train_data)"
   ]
  },
  {
   "cell_type": "code",
   "execution_count": null,
   "metadata": {
    "collapsed": true
   },
   "outputs": [],
   "source": []
  },
  {
   "cell_type": "code",
   "execution_count": 60,
   "metadata": {
    "collapsed": true
   },
   "outputs": [],
   "source": [
    "# [제목, 실제 스팸 여부, 예측된 스팸 확률]\n",
    "classified = [(subject, is_spam, classifier.classify(subject)) for subject, is_spam in test_data]"
   ]
  },
  {
   "cell_type": "code",
   "execution_count": 67,
   "metadata": {
    "collapsed": false,
    "scrolled": false
   },
   "outputs": [
    {
     "name": "stdout",
     "output_type": "stream",
     "text": [
      "(_) Increase Your Sales!!!!\t                   1\t  0.9571532542918919\n",
      "Look What Sandy is Doing in her DORM!!\t                   1\t  0.9999956709881644\n",
      "Attn: How about being a few pounds lighter?OLIBYKN\t                   1\t  0.9999989352520285\n",
      "ADV: Extended Auto Warranties Here                                                   aanfh\t                   1\t  0.9999811983230319\n",
      "The TBA Doctor Walks the Walk on Diabetes\t                   1\t  0.9999410847225025\n",
      "How would you like to create your own DVD library? 4863d-5\t                   1\t  0.9998670234022997\n",
      "Approved Online, Internet, Buy Viagra              SJHFL\t                   1\t   0.995177679738722\n",
      "Testing a system, please delete\t                   1\t 0.00269205388369314\n",
      "ADV:  Harvest lots of E-mail addresses quickly !\t                   1\t  0.9119642164250001\n",
      "Place Your LTC Declines with Us\t                   1\t 0.01641826015932076\n",
      "Welcome to the concept of RESIDUAL Income!\t                   1\t0.012079883329474326\n",
      "URGENT BUSINESS ASSISTANCE.\t                   1\t  0.9944631605570387\n",
      "Please help Home Entertainment Companies with Survey - Win a DVR!\t                   1\t  0.9999891974643578\n",
      "Interest Rates at Forty Yr. Lows\t                   1\t  0.9943660376624981\n",
      "Seeking Your Partnership\t                   1\t  0.9894876743266057\n",
      "URGENT ASSISTANCE(CONFIDENTIAL)\t                   1\t  0.9500457966231326\n",
      "International calls for only 33 cents per minute with no subscription\t                   1\t  0.9999989305832088\n",
      "LIE`S, MIS-INFORMATION and FRAUD\t                   1\t 0.07441604508063383\n",
      "Death of the Monarch of the Kingdom of EnenKio\t                   1\t 0.14150099472720962\n",
      "=?big5?Q?=A4=A3=AC=DD=B7|=AB=E1=AE=AC?=\t                   1\t  0.9880508873547265\n",
      "Newsletter Coach'Invest - Septembre 2002\t                   1\t  0.9388660747334427\n",
      "11th Convergence India 2003 exhibition & conference\t                   1\t  0.6611555923469036\n",
      "Get the Computer Skills you need - Free\t                   1\t  0.9999775443823814\n",
      "=?iso-2022-jp?B?GyRCJDckOCRfJEgkYiRiJE4lMyVpJVwlbCE8JTclZyVzGyhK?=\t                   1\t   0.999620359250366\n",
      "Term Insurance Is Out\t                   1\t  0.9216479757270813\n",
      "[ILUG] Do NOT Drop your Life Insurance\t                   1\t   0.990372203411549\n",
      "[ILUG] Want to play poker with other people online.\t                   1\t  0.9996601786236708\n",
      "Your Gateway to Wealth\t                   1\t  0.7131717539647665\n",
      ".Message report from your contact page....//ytu855 rkq\t                   1\t0.0015109358288642688\n",
      "Grow Up And Be A Man!  abm\t                   1\t 0.18007069908082385\n",
      "=?big5?Q?=A7A=B7=C7=B3=C6=A6n=A4F=B6=DC=3F?=\t                   1\t  0.9999377650426947\n",
      "Never pay for porn again, YOUR FREE PAYSITE is here! 6277zwyL0-111bAgY1254IhZJ0-37-27\t                   1\t  0.9975514691289119\n",
      "Go get em gadgets of 2002 4497VLNz2--9\t                   1\t 0.21789252265383996\n",
      "http://www.efi.ie/  \t                   1\t 0.00917402783435754\n",
      "The Flight to Safety is Upon Us\t                   1\t0.012425095957110206\n",
      "=?big5?Q?re:=A7=DA=AA=BE=B9D=A7A=BB=DD=ADn=A7=F3=A6h=BE=F7=B7|,=A4@=B0_=A8=D3=A7a!?=\t                   1\t  0.9999808546137635\n",
      "[WM] özür dileriz   \t                   1\t  0.9943622490567425\n",
      "Funds Investment    \t                   1\t  0.9285274314876071\n",
      "Special Affiliate Offers from Amazon.Com!\t                   1\t0.018614612487203072\n",
      "Free Excerpt;  Baby Makers, Loser Choosers, & Welfare Abusers...Images of My America!\t                   1\t  0.2882595686522302\n",
      "Ou Wei Lighting,Nights Will Be Lightening!\t                   1\t  0.9999939521367972\n",
      "=?iso-2022-jp?B?GyRCJDckOCRfJEgkYiRiJE4lMyVpJVwlbCE8JTclZyVzGyhK?=\t                   1\t   0.999620359250366\n",
      "=?ISO-2022-JP?B?GyRCTCQ+NUJ6OS05cCIoPF5HLiEqPVAycSQkJE45LT5sGyhC?=\t                   1\t  0.9999873899426054\n",
      "One of a kind Money maker! Try it for free!\t                   1\t  0.9999998550195005\n",
      "May I have a moment of your Time PLEASE\t                   1\t  0.7786915294198529\n",
      "New Stock Pick: BBAN - Last Pick UP 309%.......................................... gsg\t                   1\t  0.9879157226622935\n",
      "you don't satisfy me               FGTPRIL\t                   1\t     0.9660165502702\n",
      "fwd:  NORTON SYSTEMWORKS CLEARANCE SALE!\t                   1\t  0.9999996557106727\n",
      "Get on the Bus.. gbvzzzz\t                   1\t 0.03032591732425822\n",
      "Introducing HGH: The Most Powerful Anti-Obesity Drug Ever\t                   1\t  0.5959152953428636\n",
      "English Well for you?\t                   1\t 0.49938870876283714\n",
      "Introducing Chase Platinum for Students with a 0% Introductory APR\t                   1\t0.0012566691211122248\n",
      "Friend,Instantly Copy ANY DVD or Playstation Game with this software......\t                   1\t  0.9976874795224919\n",
      "Impaired Risk Case of the Month\t                   1\t  0.8156414574722806\n",
      "Never pay eBay listing fees again!\t                   1\t   0.731931209969347\n",
      "Slim Factors - A totally new approach to weight loss\t                   1\t   0.944768727845784\n",
      "[ILUG] Re: This is NO JOKE! Speed up your CPU for under $30!\t                   1\t  0.9411182527527359\n",
      "[ILUG-Social] Claim Your $25 Kmart Gift Card\t                   1\t   0.999999773482453\n",
      "Definitely the answer many have been waiting for!!\t                   1\t  0.9909326579037117\n",
      "Shipment Status     \t                   1\t  0.3937587419491682\n",
      "FORTUNE 500 WORK AT HOME REPS NEEDED!\t                   1\t   0.999999981456028\n",
      "Collect Your Money! Time:1:30:33 AM\t                   1\t  0.9996692115469127\n",
      "Funds Investment    \t                   1\t  0.9285274314876071\n",
      ".. kennst mich noch ? nehrb\t                   1\t0.010675229234345576\n",
      "Adv: Mortgage Quotes Fast Online, No Cost\t                   1\t  0.9999999135269964\n",
      "=?GB2312?B?NTDUqrvxtcPSu9LazuXHp83yRU1BSUy12Na3tcS7+rvh?=\t                   1\t 0.10864311144684344\n",
      "private             \t                   1\t 0.06084507147962376\n",
      "Re: girls           \t                   1\t0.0009525186158413664\n",
      "[WM] greencard 2004 çekiliþini kaçýrmayýn\t                   1\t 0.28005369340218933\n",
      "zzzz, do we have your money?\t                   1\t  0.9999853589872499\n",
      "[ILUG] $4,000/Month with your PC ! NO SPAM ! PLEASE READ !\t                   1\t  0.9926557863712256\n",
      "Remeber me?         \t                   1\t0.032691721067304544\n",
      "YOUR ACCOUNT HAS BEEN CLOSED!\t                   1\t  0.9473503970367334\n",
      "Welcome to OfferClub!\t                   1\t 0.02348847043722737\n",
      "Have you planned for your family's future?         ZBM\t                   1\t  0.9928125512386243\n",
      "new extensions now only $14.95\t                   1\t  0.9999094157505833\n",
      "Earn 100.000$ in one year working at home\t                   1\t  0.9999988029021852\n",
      "Your eBay account is about to expire!\t                   1\t  0.9901533951817121\n",
      "HOME REPS WANTED-FORTUNE 500 COMP HIRING\t                   1\t  0.9999999906606079\n",
      "ADV: Extended Auto Warranties Here iubrq\t                   1\t  0.9999811983230319\n",
      "Join & Get 4 DVDs for 49¢ ea. (+shipping & processing)! Details Inside...\t                   1\t  0.4709072457046071\n",
      "$250,000... as low as $6.50 per month.             edahx\t                   1\t  0.9999974728526008\n",
      "Vacation Time,House need work,Behind in Bills? Refinance while rates are low\t                   1\t  0.9999919731949262\n",
      "[ILUG-Social] Need a Credit Card?\t                   1\t  0.9946099842029593\n",
      "Get $100 Free - Beat the House at Royal Vegas!\t                   1\t  0.9891410552712181\n",
      "Make $500 - $2500/Week on Ebay                     3352\t                   1\t  0.9826504528204703\n",
      "are you in the mood             XGHTMTGGC\t                   1\t 0.13205911515601118\n",
      "FORTUNE 500 WORK AT HOME REPS NEEDED!\t                   1\t   0.999999981456028\n",
      "Act Now - Reach Hundreds of Prospects\t                   1\t 0.07793810149892211\n",
      "ADV: Extended Auto Warranties Here vfafu\t                   1\t  0.9999811983230319\n",
      "BUSINESS PARTNERSHIP(URGENT/CONFIDENTIAL)\t                   1\t  0.9896811104101253\n",
      "Printer Cartridges as low as $1.21 each!\t                   1\t  0.8850261043335644\n",
      "We Build The Internet.  WebXperts.com  (Design / Programming / Consultation)\t                   1\t0.016695514032707047\n",
      "ADV: Are you protected? Free Life Insurance quote oefik\t                   1\t  0.9999999707931284\n",
      "Private Label Reseller Hosting  -  Expires 9/30/2002\t                   1\t  0.8616936701820965\n",
      "Free Shipping on all orders at Blair.com\t                   1\t  0.3607097269005021\n",
      "Never pay for the goodz again (8SimUgQ)\t                   1\t0.005911623221945951\n",
      "[ILUG] WE NEED YOUR ASSISTANCE TO INVEST IN YOUR COUNTRY\t                   1\t  0.9991196604403746\n",
      "=?GB2312?B?0rvN+KGwu92hsczsz8KjrNK71bnM7M/C1qotLS0tMjAwM8TqNNTCMcjVLS00?=\t                   1\t 0.10864311144684344\n",
      "See your Company sales sky rocket.                 4611\t                   1\t  0.9560539796230213\n"
     ]
    }
   ],
   "source": [
    "for case in classified[-100:]:\n",
    "    print('{:20}\\t{:>20}\\t{:>20}'.format(case[0], case[1], case[2]))"
   ]
  },
  {
   "cell_type": "code",
   "execution_count": 57,
   "metadata": {
    "collapsed": true
   },
   "outputs": [],
   "source": [
    "# 메시지가 스팸일 확류이 0.5 이상이면 스팸이라고 하자. 예측된 스팸 메시지가 실제 스팸인 경우를 세어보면..\n",
    "counts = Counter((is_spam, spam_probability> 0.5) for _, is_spam, spam_probability in classified)"
   ]
  },
  {
   "cell_type": "code",
   "execution_count": 68,
   "metadata": {
    "collapsed": false
   },
   "outputs": [
    {
     "data": {
      "text/plain": [
       "Counter({(False, False): 704,\n",
       "         (False, True): 33,\n",
       "         (True, False): 38,\n",
       "         (True, True): 101})"
      ]
     },
     "execution_count": 68,
     "metadata": {},
     "output_type": "execute_result"
    }
   ],
   "source": [
    "counts"
   ]
  },
  {
   "cell_type": "code",
   "execution_count": null,
   "metadata": {
    "collapsed": true
   },
   "outputs": [],
   "source": []
  },
  {
   "cell_type": "markdown",
   "metadata": {},
   "source": [
    "- 실제 스팸 -> 스팸 예측(TP) : 101\n",
    "- 실제 햄 -> 스팸 예측(FP) : 33\n",
    "- 실제 햄 -> 햄 예측(TN) : 704\n",
    "- 실제 스팸 -> 햄 예측(FN) : 38\n",
    "\n",
    "- 정밀도(Precision) : 101/(101+33) = 75%\n",
    "- 재현율(Recall) : 101/(101+38) = 73%"
   ]
  },
  {
   "cell_type": "code",
   "execution_count": 75,
   "metadata": {
    "collapsed": false
   },
   "outputs": [],
   "source": [
    "# 스팸일 확률 오른차순으로 정렬:\n",
    "classified.sort(key=lambda row: row[2])"
   ]
  },
  {
   "cell_type": "code",
   "execution_count": 78,
   "metadata": {
    "collapsed": false,
    "scrolled": false
   },
   "outputs": [
    {
     "name": "stdout",
     "output_type": "stream",
     "text": [
      "One of a kind Money maker! Try it for free!\t                   1\t  0.9999998550195005\n",
      "ADV: Interest rates slashed! Don't wait!                                                   ccaxc\t                   1\t    0.99999987256979\n",
      "Adv: Mortgage Quotes Fast Online, No Cost\t                   1\t  0.9999999135269964\n",
      "ADV: Are you protected? Free Life Insurance quote oefik\t                   1\t  0.9999999707931284\n",
      "FORTUNE 500 WORK AT HOME REPS NEEDED!\t                   1\t   0.999999981456028\n",
      "FORTUNE 500 WORK AT HOME REPS NEEDED!\t                   1\t   0.999999981456028\n",
      "Attn: NORTON SYSTEMWORKS 2002 CLEARANCE SALE!              VOJTGT\t                   1\t  0.9999999883165344\n",
      "HOME REPS WANTED-FORTUNE 500 COMP HIRING\t                   1\t  0.9999999906606079\n",
      "MSNBC: Rates Hit 18 year Low 4.75% ...28940\t                   1\t    0.99999999435782\n",
      "Online Doctors will fill your Viagra Prescription Now!!!                QEEB\t                   1\t  0.9999999985329022\n"
     ]
    }
   ],
   "source": [
    "for case in classified[-10:]:\n",
    "    print('{:20}\\t{:>20}\\t{:>20}'.format(case[0], case[1], case[2]))"
   ]
  },
  {
   "cell_type": "code",
   "execution_count": null,
   "metadata": {
    "collapsed": true
   },
   "outputs": [],
   "source": [
    "# 스팸이 아닌 메시지 중 스팸일 확률이 가장 높은 메시지"
   ]
  },
  {
   "cell_type": "code",
   "execution_count": null,
   "metadata": {
    "collapsed": true
   },
   "outputs": [],
   "source": [
    "spammiest_hams = filter(lambda row:)"
   ]
  },
  {
   "cell_type": "code",
   "execution_count": null,
   "metadata": {
    "collapsed": true
   },
   "outputs": [],
   "source": []
  },
  {
   "cell_type": "code",
   "execution_count": null,
   "metadata": {
    "collapsed": true
   },
   "outputs": [],
   "source": []
  },
  {
   "cell_type": "code",
   "execution_count": null,
   "metadata": {
    "collapsed": true
   },
   "outputs": [],
   "source": []
  },
  {
   "cell_type": "code",
   "execution_count": 20,
   "metadata": {
    "collapsed": true
   },
   "outputs": [],
   "source": [
    "def get_subject_data(path):\n",
    "\n",
    "    data = []\n",
    "\n",
    "    # regex for stripping out the leading \"Subject:\" and any spaces after it\n",
    "    subject_regex = re.compile(r\"^Subject:\\s+\")\n",
    "\n",
    "    # glob.glob returns every filename that matches the wildcarded path\n",
    "    for fn in glob.glob(path):\n",
    "        is_spam = \"ham\" not in fn\n",
    "\n",
    "        with open(fn,'r',encoding='ISO-8859-1') as file:\n",
    "            for line in file:\n",
    "                if line.startswith(\"Subject:\"):\n",
    "                    subject = subject_regex.sub(\"\", line).strip()\n",
    "                    data.append((subject, is_spam))\n",
    "\n",
    "    return data\n"
   ]
  },
  {
   "cell_type": "code",
   "execution_count": 21,
   "metadata": {
    "collapsed": true
   },
   "outputs": [],
   "source": [
    "def p_spam_given_word(word_prob):\n",
    "    word, prob_if_spam, prob_if_not_spam = word_prob\n",
    "    return prob_if_spam / (prob_if_spam + prob_if_not_spam)\n"
   ]
  },
  {
   "cell_type": "code",
   "execution_count": 22,
   "metadata": {
    "collapsed": true
   },
   "outputs": [],
   "source": [
    "def train_and_test_model(path):\n",
    "\n",
    "    data = get_subject_data(path)\n",
    "    random.seed(0)      # just so you get the same answers as me\n",
    "    train_data, test_data = split_data(data, 0.75)\n",
    "\n",
    "    classifier = NaiveBayesClassifier()\n",
    "    classifier.train(train_data)\n",
    "\n",
    "    classified = [(subject, is_spam, classifier.classify(subject))\n",
    "              for subject, is_spam in test_data]\n",
    "\n",
    "    counts = Counter((is_spam, spam_probability > 0.5) # (actual, predicted)\n",
    "                     for _, is_spam, spam_probability in classified)\n",
    "\n",
    "    print(counts)\n",
    "\n",
    "    classified.sort(key=lambda row: row[2])\n",
    "    spammiest_hams = list(filter(lambda row: not row[1], classified))[-5:]\n",
    "    hammiest_spams = list(filter(lambda row: row[1], classified))[:5]\n",
    "\n",
    "    print(\"spammiest_hams\", spammiest_hams)\n",
    "    print(\"hammiest_spams\", hammiest_spams)\n",
    "\n",
    "    words = sorted(classifier.word_probs, key=p_spam_given_word)\n",
    "\n",
    "    spammiest_words = words[-5:]\n",
    "    hammiest_words = words[:5]\n",
    "\n",
    "    print(\"spammiest_words\", spammiest_words)\n",
    "    print(\"hammiest_words\", hammiest_words)"
   ]
  },
  {
   "cell_type": "code",
   "execution_count": 23,
   "metadata": {
    "collapsed": false
   },
   "outputs": [
    {
     "ename": "NameError",
     "evalue": "name 'split_data' is not defined",
     "output_type": "error",
     "traceback": [
      "\u001b[0;31m---------------------------------------------------------------------------\u001b[0m",
      "\u001b[0;31mNameError\u001b[0m                                 Traceback (most recent call last)",
      "\u001b[0;32m<ipython-input-23-bda2456fbdd0>\u001b[0m in \u001b[0;36m<module>\u001b[0;34m()\u001b[0m\n\u001b[1;32m      1\u001b[0m \u001b[0;32mif\u001b[0m \u001b[0m__name__\u001b[0m \u001b[0;34m==\u001b[0m \u001b[0;34m\"__main__\"\u001b[0m\u001b[0;34m:\u001b[0m\u001b[0;34m\u001b[0m\u001b[0m\n\u001b[1;32m      2\u001b[0m     \u001b[0;31m#train_and_test_model(r\"c:\\spam\\*\\*\")\u001b[0m\u001b[0;34m\u001b[0m\u001b[0;34m\u001b[0m\u001b[0m\n\u001b[0;32m----> 3\u001b[0;31m     \u001b[0mtrain_and_test_model\u001b[0m\u001b[0;34m(\u001b[0m\u001b[0;34mr\"/home/joel/src/spam/*/*\"\u001b[0m\u001b[0;34m)\u001b[0m\u001b[0;34m\u001b[0m\u001b[0m\n\u001b[0m",
      "\u001b[0;32m<ipython-input-22-dd7fc098ba77>\u001b[0m in \u001b[0;36mtrain_and_test_model\u001b[0;34m(path)\u001b[0m\n\u001b[1;32m      3\u001b[0m     \u001b[0mdata\u001b[0m \u001b[0;34m=\u001b[0m \u001b[0mget_subject_data\u001b[0m\u001b[0;34m(\u001b[0m\u001b[0mpath\u001b[0m\u001b[0;34m)\u001b[0m\u001b[0;34m\u001b[0m\u001b[0m\n\u001b[1;32m      4\u001b[0m     \u001b[0mrandom\u001b[0m\u001b[0;34m.\u001b[0m\u001b[0mseed\u001b[0m\u001b[0;34m(\u001b[0m\u001b[0;36m0\u001b[0m\u001b[0;34m)\u001b[0m      \u001b[0;31m# just so you get the same answers as me\u001b[0m\u001b[0;34m\u001b[0m\u001b[0m\n\u001b[0;32m----> 5\u001b[0;31m     \u001b[0mtrain_data\u001b[0m\u001b[0;34m,\u001b[0m \u001b[0mtest_data\u001b[0m \u001b[0;34m=\u001b[0m \u001b[0msplit_data\u001b[0m\u001b[0;34m(\u001b[0m\u001b[0mdata\u001b[0m\u001b[0;34m,\u001b[0m \u001b[0;36m0.75\u001b[0m\u001b[0;34m)\u001b[0m\u001b[0;34m\u001b[0m\u001b[0m\n\u001b[0m\u001b[1;32m      6\u001b[0m \u001b[0;34m\u001b[0m\u001b[0m\n\u001b[1;32m      7\u001b[0m     \u001b[0mclassifier\u001b[0m \u001b[0;34m=\u001b[0m \u001b[0mNaiveBayesClassifier\u001b[0m\u001b[0;34m(\u001b[0m\u001b[0;34m)\u001b[0m\u001b[0;34m\u001b[0m\u001b[0m\n",
      "\u001b[0;31mNameError\u001b[0m: name 'split_data' is not defined"
     ]
    }
   ],
   "source": [
    "if __name__ == \"__main__\":\n",
    "    #train_and_test_model(r\"c:\\spam\\*\\*\")\n",
    "    train_and_test_model(r\"/home/joel/src/spam/*/*\")"
   ]
  },
  {
   "cell_type": "code",
   "execution_count": null,
   "metadata": {
    "collapsed": true
   },
   "outputs": [],
   "source": []
  },
  {
   "cell_type": "code",
   "execution_count": null,
   "metadata": {
    "collapsed": true
   },
   "outputs": [],
   "source": []
  },
  {
   "cell_type": "code",
   "execution_count": null,
   "metadata": {
    "collapsed": true
   },
   "outputs": [],
   "source": []
  },
  {
   "cell_type": "code",
   "execution_count": null,
   "metadata": {
    "collapsed": true
   },
   "outputs": [],
   "source": []
  }
 ],
 "metadata": {
  "kernelspec": {
   "display_name": "Python 3",
   "language": "python",
   "name": "python3"
  },
  "language_info": {
   "codemirror_mode": {
    "name": "ipython",
    "version": 3
   },
   "file_extension": ".py",
   "mimetype": "text/x-python",
   "name": "python",
   "nbconvert_exporter": "python",
   "pygments_lexer": "ipython3",
   "version": "3.6.0"
  }
 },
 "nbformat": 4,
 "nbformat_minor": 0
}
